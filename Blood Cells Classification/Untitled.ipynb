{
 "cells": [
  {
   "cell_type": "code",
   "execution_count": 1,
   "id": "2877ae87-1a46-4563-8130-78afd11ef0e9",
   "metadata": {},
   "outputs": [],
   "source": [
    "def f(a, *args, b =2):\n",
    "    return a + sum(args) + b"
   ]
  },
  {
   "cell_type": "code",
   "execution_count": 2,
   "id": "64c9fa79-9e06-4d3b-bf74-e7b7905f65db",
   "metadata": {},
   "outputs": [
    {
     "data": {
      "text/plain": [
       "8"
      ]
     },
     "execution_count": 2,
     "metadata": {},
     "output_type": "execute_result"
    }
   ],
   "source": [
    "f(1,2,3)"
   ]
  },
  {
   "cell_type": "code",
   "execution_count": 12,
   "id": "f71f7348-d306-4391-baba-963ce3224c40",
   "metadata": {},
   "outputs": [],
   "source": [
    "def g(a, *args, b=2, **kwargs):\n",
    "    return a + sum(args) + b + sum(kwargs.values())"
   ]
  },
  {
   "cell_type": "code",
   "execution_count": 14,
   "id": "643e8acf-1cf9-45a9-abc3-e1436c81663b",
   "metadata": {},
   "outputs": [
    {
     "name": "stdout",
     "output_type": "stream",
     "text": [
      "15\n"
     ]
    }
   ],
   "source": [
    "print( g(1,2,3,b=4,c=5) )"
   ]
  },
  {
   "cell_type": "code",
   "execution_count": null,
   "id": "ae1628f6-d316-4432-b943-a113a1770a6c",
   "metadata": {},
   "outputs": [],
   "source": []
  },
  {
   "cell_type": "code",
   "execution_count": null,
   "id": "b8170ccb-492e-44cb-95d1-5e57b6e09375",
   "metadata": {},
   "outputs": [],
   "source": []
  }
 ],
 "metadata": {
  "kernelspec": {
   "display_name": "Python 3 (ipykernel)",
   "language": "python",
   "name": "python3"
  },
  "language_info": {
   "codemirror_mode": {
    "name": "ipython",
    "version": 3
   },
   "file_extension": ".py",
   "mimetype": "text/x-python",
   "name": "python",
   "nbconvert_exporter": "python",
   "pygments_lexer": "ipython3",
   "version": "3.13.2"
  }
 },
 "nbformat": 4,
 "nbformat_minor": 5
}
